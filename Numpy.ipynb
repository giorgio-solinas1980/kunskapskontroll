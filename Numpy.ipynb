{
 "cells": [
  {
   "cell_type": "markdown",
   "id": "dacf74e6",
   "metadata": {},
   "source": [
    "# NumPy"
   ]
  },
  {
   "cell_type": "markdown",
   "id": "01b2bf34",
   "metadata": {},
   "source": [
    "Read the links: https://numpy.org/doc/stable/user/quickstart.html  and https://numpy.org/doc/stable/user/basics.broadcasting.html  before solving the exercises. "
   ]
  },
  {
   "cell_type": "code",
   "execution_count": 3,
   "id": "1f79e4a6",
   "metadata": {},
   "outputs": [],
   "source": [
    "import numpy as np"
   ]
  },
  {
   "cell_type": "markdown",
   "id": "7dae6889",
   "metadata": {},
   "source": [
    "### Print out the dimension (number of axes), shape, size and the datatype of the matrix A."
   ]
  },
  {
   "cell_type": "code",
   "execution_count": 4,
   "id": "7b3678cd",
   "metadata": {},
   "outputs": [],
   "source": [
    "A = np.arange(1, 16).reshape(3,5)"
   ]
  },
  {
   "cell_type": "code",
   "execution_count": 6,
   "id": "d2b2bf47",
   "metadata": {},
   "outputs": [
    {
     "name": "stdout",
     "output_type": "stream",
     "text": [
      "[[ 1  2  3  4  5]\n",
      " [ 6  7  8  9 10]\n",
      " [11 12 13 14 15]]\n"
     ]
    }
   ],
   "source": [
    "print(A)"
   ]
  },
  {
   "cell_type": "code",
   "execution_count": 5,
   "id": "31d39235",
   "metadata": {},
   "outputs": [
    {
     "name": "stdout",
     "output_type": "stream",
     "text": [
      "2\n",
      "(3, 5)\n",
      "15\n",
      "int32\n"
     ]
    }
   ],
   "source": [
    "print(A.ndim)\n",
    "print(A.shape)\n",
    "print(A.size)\n",
    "print(A.dtype)"
   ]
  },
  {
   "cell_type": "markdown",
   "id": "e56d2a96",
   "metadata": {},
   "source": [
    "### Do the following computations on the matrices B and C: \n",
    "* Elementwise subtraction. \n",
    "* Elementwise multiplication. \n",
    "* Matrix multiplication (by default you should use the @ operator)."
   ]
  },
  {
   "cell_type": "code",
   "execution_count": 7,
   "id": "a7053fbb",
   "metadata": {},
   "outputs": [
    {
     "name": "stdout",
     "output_type": "stream",
     "text": [
      "[[1 2 3]\n",
      " [4 5 6]\n",
      " [7 8 9]]\n",
      "\n",
      "[[2. 2. 2.]\n",
      " [2. 2. 2.]\n",
      " [2. 2. 2.]]\n"
     ]
    }
   ],
   "source": [
    "B = np.arange(1, 10).reshape(3, 3)\n",
    "C = np.ones((3, 3))*2\n",
    "\n",
    "print(B)\n",
    "print()\n",
    "print(C)"
   ]
  },
  {
   "cell_type": "code",
   "execution_count": 93,
   "id": "3cd794ae",
   "metadata": {},
   "outputs": [
    {
     "name": "stdout",
     "output_type": "stream",
     "text": [
      "[[-1.  0.  1.]\n",
      " [ 2.  3.  4.]\n",
      " [ 5.  6. 16.]]\n",
      "[[ 2.  4.  6.]\n",
      " [ 8. 10. 12.]\n",
      " [14. 16. 36.]]\n",
      "[[12. 12. 12.]\n",
      " [30. 30. 30.]\n",
      " [66. 66. 66.]]\n"
     ]
    }
   ],
   "source": [
    "print(B-C)\n",
    "print(B*C)\n",
    "print(B@C)\n",
    "#print(B.dot(C)) another way to do a matrix multiplication\n"
   ]
  },
  {
   "cell_type": "markdown",
   "id": "96030d53",
   "metadata": {},
   "source": [
    "### Do the following calculations on the matrix:\n",
    "* Exponentiate each number elementwise (use the np.exp function).\n",
    "\n",
    "* Calculate the minimum value in the whole matrix. \n",
    "* Calculcate the minimum value in each row. \n",
    "* Calculcate the minimum value in each column. \n",
    "\n",
    "\n",
    "* Find the index value for the minimum value in the whole matrix (hint: use np.argmin).\n",
    "* Find the index value for the minimum value in each row (hint: use np.argmin).\n",
    "\n",
    "\n",
    "* Calculate the sum for all elements.\n",
    "* Calculate the mean for each column. \n",
    "* Calculate the median for each column. "
   ]
  },
  {
   "cell_type": "code",
   "execution_count": 96,
   "id": "f8a9166b",
   "metadata": {},
   "outputs": [],
   "source": [
    "B = np.arange(1, 10).reshape(3, 3)\n"
   ]
  },
  {
   "cell_type": "code",
   "execution_count": 97,
   "id": "826a766f",
   "metadata": {},
   "outputs": [
    {
     "name": "stdout",
     "output_type": "stream",
     "text": [
      "[[1 2 3]\n",
      " [4 5 6]\n",
      " [7 8 9]]\n"
     ]
    }
   ],
   "source": [
    "print(B)"
   ]
  },
  {
   "cell_type": "code",
   "execution_count": 98,
   "id": "f03f24f7",
   "metadata": {},
   "outputs": [
    {
     "name": "stdout",
     "output_type": "stream",
     "text": [
      "[[2.71828183e+00 7.38905610e+00 2.00855369e+01]\n",
      " [5.45981500e+01 1.48413159e+02 4.03428793e+02]\n",
      " [1.09663316e+03 2.98095799e+03 8.10308393e+03]]\n",
      "1\n",
      "[1 4 7]\n",
      "[1 2 3]\n",
      "0\n",
      "[0 0 0]\n",
      "45\n",
      "5.0\n",
      "[4. 5. 6.]\n",
      "[4. 5. 6.]\n"
     ]
    }
   ],
   "source": [
    "print(np.exp(B))\n",
    "print(np.min(B))\n",
    "print(np.min(B, axis=1)) # axis=1 indicates rows\n",
    "print(np.min(B, axis=0)) #axis=0 indicates columns\n",
    "print(np.argmin(B))\n",
    "print(np.argmin(B, axis=1))\n",
    "print(np.sum(B))\n",
    "#print(np.mean(B)) average for the whole matrix\n",
    "print(np.mean(B, axis=0))\n",
    "print(np.median(B, axis=0))"
   ]
  },
  {
   "cell_type": "markdown",
   "id": "541eb7ba",
   "metadata": {},
   "source": [
    "### What does it mean when you provide fewer indices than axes when slicing? See example below."
   ]
  },
  {
   "cell_type": "code",
   "execution_count": 56,
   "id": "9c8abf56",
   "metadata": {},
   "outputs": [
    {
     "name": "stdout",
     "output_type": "stream",
     "text": [
      "[[ 1  2  3  4  5]\n",
      " [ 6  7  8  9 10]\n",
      " [11 12 13 14 15]]\n"
     ]
    }
   ],
   "source": [
    "print(A)"
   ]
  },
  {
   "cell_type": "code",
   "execution_count": 74,
   "id": "69415f7b",
   "metadata": {},
   "outputs": [
    {
     "data": {
      "text/plain": [
       "array([ 6,  7,  8,  9, 10])"
      ]
     },
     "execution_count": 74,
     "metadata": {},
     "output_type": "execute_result"
    }
   ],
   "source": [
    "A[1]"
   ]
  },
  {
   "cell_type": "markdown",
   "id": "6c53541b",
   "metadata": {},
   "source": [
    "**Answer:**"
   ]
  },
  {
   "cell_type": "markdown",
   "id": "3f098f2d",
   "metadata": {},
   "source": [
    "In a bidimentional matrix it takes only the row with the specified index,\n",
    "while in a tridimentional matrix it takes only the matrix with the specifid index, see the example below"
   ]
  },
  {
   "cell_type": "code",
   "execution_count": 52,
   "id": "21bb2be6",
   "metadata": {},
   "outputs": [],
   "source": [
    "R = np.random.randint(10, size=(3,3,3))"
   ]
  },
  {
   "cell_type": "code",
   "execution_count": 68,
   "id": "abed269c",
   "metadata": {},
   "outputs": [
    {
     "name": "stdout",
     "output_type": "stream",
     "text": [
      "[[[3 6 3]\n",
      "  [6 4 0]\n",
      "  [8 0 3]]\n",
      "\n",
      " [[1 3 7]\n",
      "  [4 6 1]\n",
      "  [7 1 2]]\n",
      "\n",
      " [[1 8 0]\n",
      "  [7 8 8]\n",
      "  [5 9 0]]]\n"
     ]
    }
   ],
   "source": [
    "print(R)"
   ]
  },
  {
   "cell_type": "code",
   "execution_count": 71,
   "id": "2c25b47c",
   "metadata": {},
   "outputs": [
    {
     "name": "stdout",
     "output_type": "stream",
     "text": [
      "[[3 6 3]\n",
      " [6 4 0]\n",
      " [8 0 3]]\n"
     ]
    }
   ],
   "source": [
    "print(R[0])"
   ]
  },
  {
   "cell_type": "markdown",
   "id": "6652d0c9",
   "metadata": {},
   "source": [
    "### Iterating over multidimensional arrays is done with respect to the first axis, so in the example below we iterate trough the rows. If you would like to iterate through the array *elementwise*, how would you do that?"
   ]
  },
  {
   "cell_type": "code",
   "execution_count": 169,
   "id": "9459864f",
   "metadata": {},
   "outputs": [
    {
     "name": "stdout",
     "output_type": "stream",
     "text": [
      "[[ 1  2  3  4  5]\n",
      " [ 6  7  8  9 10]\n",
      " [11 12 13 14 15]]\n"
     ]
    }
   ],
   "source": [
    "A = np.arange(1,16).reshape((3,5))\n",
    "print(A)"
   ]
  },
  {
   "cell_type": "markdown",
   "id": "c8c13841",
   "metadata": {},
   "source": [
    "There are few different ways to iterate elementswise. Here I show 2. The first one is through nested for loops. It works but it is not the most efficient way. The second one through the ravel function that returns a one dimentional array"
   ]
  },
  {
   "cell_type": "code",
   "execution_count": 81,
   "id": "a671bb5a",
   "metadata": {},
   "outputs": [
    {
     "name": "stdout",
     "output_type": "stream",
     "text": [
      "1\n",
      "2\n",
      "3\n",
      "4\n",
      "5\n",
      "6\n",
      "7\n",
      "8\n",
      "9\n",
      "10\n",
      "11\n",
      "12\n",
      "13\n",
      "14\n",
      "15\n"
     ]
    }
   ],
   "source": [
    "for i in A:\n",
    "    for j in i:\n",
    "        print(j)"
   ]
  },
  {
   "cell_type": "code",
   "execution_count": 177,
   "id": "f4e443a0",
   "metadata": {},
   "outputs": [
    {
     "name": "stdout",
     "output_type": "stream",
     "text": [
      "1\n",
      "2\n",
      "3\n",
      "4\n",
      "5\n",
      "6\n",
      "7\n",
      "8\n",
      "9\n",
      "10\n",
      "11\n",
      "12\n",
      "13\n",
      "14\n",
      "15\n"
     ]
    }
   ],
   "source": [
    "for i in np.ravel(A):\n",
    "    print(i)"
   ]
  },
  {
   "cell_type": "markdown",
   "id": "608a2583",
   "metadata": {},
   "source": [
    "### Explain what the code below does. More specifically, b has three axes - what does this mean? "
   ]
  },
  {
   "cell_type": "code",
   "execution_count": 102,
   "id": "f8f9b26f",
   "metadata": {},
   "outputs": [
    {
     "name": "stdout",
     "output_type": "stream",
     "text": [
      "[ 0  1  2  3  4  5  6  7  8  9 10 11 12 13 14 15 16 17 18 19 20 21 22 23\n",
      " 24 25 26 27 28 29]\n",
      "<class 'numpy.ndarray'>\n",
      "\n",
      "[[[ 0  1  2  3  4]\n",
      "  [ 5  6  7  8  9]\n",
      "  [10 11 12 13 14]]\n",
      "\n",
      " [[15 16 17 18 19]\n",
      "  [20 21 22 23 24]\n",
      "  [25 26 27 28 29]]]\n",
      "\n",
      "[[ 0  1  2  3  4  5]\n",
      " [ 6  7  8  9 10 11]\n",
      " [12 13 14 15 16 17]\n",
      " [18 19 20 21 22 23]\n",
      " [24 25 26 27 28 29]]\n",
      "<class 'numpy.ndarray'>\n"
     ]
    }
   ],
   "source": [
    "a = np.arange(30)\n",
    "b = a.reshape((2, 3, -1))\n",
    "#Now I create a 2d array to show the difference\n",
    "c = a.reshape(5,-1)\n",
    "\n",
    "print(a)\n",
    "print()\n",
    "\n",
    "print(b)\n",
    "print()\n",
    "print(c)"
   ]
  },
  {
   "cell_type": "markdown",
   "id": "3039cfa9",
   "metadata": {},
   "source": [
    "np.arange creates an array with 30 elements with values from 0 to 29. This array is stored in the variable 'a'. Through the reshape function we create a numpy multidimentional array which has 2 new arrays with 3 subarrays each. With the third parameter we specify how many elements the subbarrays will have; if the value of the third parameter is -1 we let the function calculate automatically how many element should the subbarrays have. In this specific case it is quite obvious that if we have 30 elements the new arrays will have 15 elements each divided in 3 subbarrays which must contain solely 5 elements. Pratically we can see the reshaped array as a trimimentional 2X3X5 matrix. Every time we reshape an array with 3 parameters we create a new 3D array with the same elements. If we use 2 parameters we create a 2D array (if the second parameter is -1 we let the function calculate automatically the number of elements each row will have)"
   ]
  },
  {
   "cell_type": "markdown",
   "id": "ab5933d5",
   "metadata": {},
   "source": [
    "### Broadcasting\n",
    "**Read the following link about broadcasting: https://numpy.org/doc/stable/user/basics.broadcasting.html#basics-broadcasting**"
   ]
  },
  {
   "cell_type": "markdown",
   "id": "039805ba",
   "metadata": {},
   "source": [
    "# Remark on Broadcasting when doing Linear Algebra calculations in Python. "
   ]
  },
  {
   "cell_type": "markdown",
   "id": "c4bcc147",
   "metadata": {},
   "source": [
    "### From the mathematical rules of matrix addition, the operation below (m1 + m2) does not make sense. The reason is that matrix addition requires two matrices of the same size. In Python however, it works due to broadcasting rules in NumPy. So you must be careful when doing Linear Algebra calculations in Python since they do not follow the \"mathematical rules\". This can however easily be handled by doing some simple programming, for example validating that two matrices have the same shape is easy if you for instance want to add two matrices. "
   ]
  },
  {
   "cell_type": "code",
   "execution_count": 88,
   "id": "1fd46778",
   "metadata": {},
   "outputs": [
    {
     "name": "stdout",
     "output_type": "stream",
     "text": [
      "[[1 2]\n",
      " [3 4]]\n",
      "[[2 3]\n",
      " [4 5]]\n"
     ]
    }
   ],
   "source": [
    "m1 = np.array([[1, 2], [3, 4]])\n",
    "m2 = np.array([1, 1])\n",
    "print(m1)\n",
    "print(m1 + m2)"
   ]
  },
  {
   "cell_type": "markdown",
   "id": "047d6576",
   "metadata": {},
   "source": [
    "### The example below would also not be allowed if following the \"mathematical rules\" in Linear Algebra. But it works due to broadcasting in NumPy. "
   ]
  },
  {
   "cell_type": "code",
   "execution_count": 89,
   "id": "5e6ef2e4",
   "metadata": {},
   "outputs": [
    {
     "name": "stdout",
     "output_type": "stream",
     "text": [
      "[2 3 4]\n"
     ]
    }
   ],
   "source": [
    "v1 = np.array([1, 2, 3])\n",
    "print(v1 + 1)"
   ]
  },
  {
   "cell_type": "code",
   "execution_count": 92,
   "id": "e2cbae26",
   "metadata": {},
   "outputs": [
    {
     "name": "stdout",
     "output_type": "stream",
     "text": [
      "[[1 2]\n",
      " [3 4]]\n",
      "[2 2]\n"
     ]
    }
   ],
   "source": [
    "A = np.arange(1, 5).reshape(2,2)\n",
    "print(A)\n",
    "\n",
    "b = np.array([2, 2])\n",
    "print(b)"
   ]
  },
  {
   "cell_type": "markdown",
   "id": "722fd5cd",
   "metadata": {},
   "source": [
    "# Linear Algebra Exercises"
   ]
  },
  {
   "cell_type": "markdown",
   "id": "b8935099",
   "metadata": {},
   "source": [
    "The exercies are taken from the \"Matrix Algebra for Engineers\" by Chasnov: https://www.math.hkust.edu.hk/~machas/matrix-algebra-for-engineers.pdf .\n",
    "\n",
    "Do the following exercises: \n",
    "* Chapter 2, exercise 1-3.\n",
    "* Quiz on p.8, exercise 2. \n",
    "* Chapter 6, exercise 1. \n",
    "* Quiz on p.15, exercise 3. \n",
    "\n",
    "\n",
    "* Chapter 10, exercise 1. \n",
    "* Chapter 12 exercise 1. \n"
   ]
  },
  {
   "cell_type": "code",
   "execution_count": 237,
   "id": "a452a77a",
   "metadata": {},
   "outputs": [
    {
     "name": "stdout",
     "output_type": "stream",
     "text": [
      "[[ 2  1 -1]\n",
      " [ 1 -1  1]]\n",
      "[[ 4 -2  1]\n",
      " [ 2 -4 -2]]\n",
      "[[1 2]\n",
      " [2 1]]\n",
      "[[3 4]\n",
      " [4 3]]\n",
      "[[1]\n",
      " [2]]\n"
     ]
    }
   ],
   "source": [
    "A = np.array([[2, 1, -1], [1, -1, 1]])\n",
    "B = np.array([[4, -2, 1], [2, -4, -2]])\n",
    "\n",
    "C = np.array([[1, 2], [2, 1]])\n",
    "D = np.array([[3, 4], [4, 3]])\n",
    "\n",
    "E = np.array([[1], [2]])\n",
    "\n",
    "print(A)\n",
    "print(B)\n",
    "print(C)\n",
    "print(D)\n",
    "print(E)"
   ]
  },
  {
   "cell_type": "markdown",
   "id": "9d8366cc",
   "metadata": {},
   "source": [
    "**Chap2. Question 1.**\n",
    "\n",
    "**Write a function \"add_mult_matrices\" that takes two matrices as input arguments (validate that the input are of the type numpy.ndarray by using the isinstance function), a third argument that is either 'add' or 'multiply' that specifies if you want to add or multiply the matrices (validate that the third argument is either 'add' or 'multiply'). When doing matrix addition, validate that the matrices have the same size. When doing matrix multiplication, validate that the sizes conform (i.e. number of columns in the first matrix is equal to the number of rows in the second matrix).**\n",
    "\n",
    "In this exercise, create a function that takes two matrices as input and either adds or multiplies them by specifying a argument as either 'add' or 'multiply'. Validate that both matrices taken as input are of the type ndarray (use the isinstance function)."
   ]
  },
  {
   "cell_type": "code",
   "execution_count": 261,
   "id": "1d4a4a33",
   "metadata": {},
   "outputs": [],
   "source": [
    "def add_mult_matrices(m, n, operation):\n",
    "    '''Here I write a function that sum and multiplicate 2 matrixes. \n",
    "       It takes 3 different parametres: the first two (m and n) are the matrixes and the third (operation) \n",
    "       is the name of the operation we want to perform.\n",
    "       To ensure that the programm performs correctly the inputs must go through few levels of validification; \n",
    "       if they don't pass the validification exceptions are raised.\n",
    "       The first one is controlling that the matrices I insert are instances of numpy.ndarray class.\n",
    "       The we check if the name of the operation we want to perform is passed as a string and is spelled correctly.\n",
    "       If these levels are passed then we can start to operate on the matrixes. \n",
    "       To add two matrixes we have to make sure that they have the same number of rows and colums.\n",
    "       To multifly them, using the linear algebra definition, we have to check that the numer of columns \n",
    "       in the first matrix equals the number of rows in the second one'''\n",
    "    \n",
    "    \n",
    "    #first validification level: checking if the matrixes are instances of numpy.ndarray class\n",
    "    if (not(isinstance(m, np.ndarray) and isinstance(n, np.ndarray))):\n",
    "        raise Exception(\"Matrices must be an instance of numpy.ndarray class\")\n",
    "    \n",
    "    else:\n",
    "        #second validificatio: checking if the operation parameter is a string\n",
    "        if not(isinstance(operation,str)):\n",
    "            raise Exception(\"The operation you want to perform must be passed as a string\")\n",
    "            \n",
    "        else:\n",
    "            #here the user can choose what operation he/she wants to perform. To avoid problems the input is case-insensitive.\n",
    "            if operation.casefold() == \"add\":\n",
    "                #fourth level of validification: controlling if the matrixes have the same number of rows and the same number of columns in order to perform a sum\n",
    "                if m.shape==n.shape:\n",
    "                    return m + n\n",
    "                else:\n",
    "                    raise Exception(\"You can't do this operation because the two matrix have different dimentions\")\n",
    "        \n",
    "            elif operation.casefold() == \"multiply\":\n",
    "                #checking if the the number of columns of the first matrix are the same as rows of the second\n",
    "                if m.shape[1]==n.shape[0]:\n",
    "                    return m@n\n",
    "                else:\n",
    "                    raise Exception(\"The first matrix must have the same number of columns as the second matrix has rows\")\n",
    "        \n",
    "            else:\n",
    "                raise Exception( \"You specified a wrong operation or didn't spell it correctly. Try 'add' or 'multiply'\")"
   ]
  },
  {
   "cell_type": "code",
   "execution_count": 262,
   "id": "90c169b3",
   "metadata": {},
   "outputs": [
    {
     "name": "stdout",
     "output_type": "stream",
     "text": [
      "Here I write a function that sum and multiplicate 2 matrixes. \n",
      "       It takes 3 different parametres: the first two (m and n) are the matrixes and the third (operation) \n",
      "       is the name of the operation we want to perform.\n",
      "       To ensure that the programm performs correctly the inputs must go through few levels of validification; \n",
      "       if they don't pass the validification exceptions are raised.\n",
      "       The first one is controlling that the matrices I insert are instances of numpy.ndarray class.\n",
      "       The we check if the name of the operation we want to perform is passed as a string and is spelled correctly.\n",
      "       If these levels are passed then we can start to operate on the matrixes. \n",
      "       To add two matrixes we have to make sure that they have the same number of rows and colums.\n",
      "       To multifly them, using the linear algebra definition, we have to check that the numer of columns \n",
      "       in the first matrix equals the number of rows in the second one\n"
     ]
    }
   ],
   "source": [
    "print(add_mult_matrices.__doc__)"
   ]
  },
  {
   "cell_type": "code",
   "execution_count": 253,
   "id": "b766366f",
   "metadata": {},
   "outputs": [
    {
     "name": "stdout",
     "output_type": "stream",
     "text": [
      "[[ 0 -4  3]\n",
      " [ 0 -2 -4]]\n"
     ]
    }
   ],
   "source": [
    "print(add_mult_matrices(-2*A,B,\"aDD\"))"
   ]
  },
  {
   "cell_type": "code",
   "execution_count": 254,
   "id": "2c01d8ca",
   "metadata": {},
   "outputs": [
    {
     "ename": "Exception",
     "evalue": "You can't do this operation because the two matrix have different dimentions",
     "output_type": "error",
     "traceback": [
      "\u001b[1;31m---------------------------------------------------------------------------\u001b[0m",
      "\u001b[1;31mException\u001b[0m                                 Traceback (most recent call last)",
      "Cell \u001b[1;32mIn[254], line 1\u001b[0m\n\u001b[1;32m----> 1\u001b[0m \u001b[38;5;28mprint\u001b[39m(add_mult_matrices(\u001b[38;5;241m3\u001b[39m\u001b[38;5;241m*\u001b[39mC,\u001b[38;5;241m-\u001b[39mE,\u001b[38;5;124m\"\u001b[39m\u001b[38;5;124mADD\u001b[39m\u001b[38;5;124m\"\u001b[39m))\n",
      "Cell \u001b[1;32mIn[240], line 29\u001b[0m, in \u001b[0;36madd_mult_matrices\u001b[1;34m(m, n, operation)\u001b[0m\n\u001b[0;32m     27\u001b[0m         \u001b[38;5;28;01mreturn\u001b[39;00m m \u001b[38;5;241m+\u001b[39m n\n\u001b[0;32m     28\u001b[0m     \u001b[38;5;28;01melse\u001b[39;00m:\n\u001b[1;32m---> 29\u001b[0m         \u001b[38;5;28;01mraise\u001b[39;00m \u001b[38;5;167;01mException\u001b[39;00m(\u001b[38;5;124m\"\u001b[39m\u001b[38;5;124mYou can\u001b[39m\u001b[38;5;124m'\u001b[39m\u001b[38;5;124mt do this operation because the two matrix have different dimentions\u001b[39m\u001b[38;5;124m\"\u001b[39m)\n\u001b[0;32m     31\u001b[0m \u001b[38;5;28;01melif\u001b[39;00m operation\u001b[38;5;241m.\u001b[39mcasefold() \u001b[38;5;241m==\u001b[39m \u001b[38;5;124m\"\u001b[39m\u001b[38;5;124mmultiply\u001b[39m\u001b[38;5;124m\"\u001b[39m:\n\u001b[0;32m     32\u001b[0m     \u001b[38;5;66;03m#checking if the the number of columns of the first matrix are the same as rows of the second\u001b[39;00m\n\u001b[0;32m     33\u001b[0m     \u001b[38;5;28;01mif\u001b[39;00m m\u001b[38;5;241m.\u001b[39mshape[\u001b[38;5;241m1\u001b[39m]\u001b[38;5;241m==\u001b[39mn\u001b[38;5;241m.\u001b[39mshape[\u001b[38;5;241m0\u001b[39m]:\n",
      "\u001b[1;31mException\u001b[0m: You can't do this operation because the two matrix have different dimentions"
     ]
    }
   ],
   "source": [
    "print(add_mult_matrices(3*C,-E,\"ADD\"))"
   ]
  },
  {
   "cell_type": "code",
   "execution_count": 255,
   "id": "5f130559",
   "metadata": {},
   "outputs": [
    {
     "ename": "Exception",
     "evalue": "The first matrix must have the same number of columns as the second matrix has rows",
     "output_type": "error",
     "traceback": [
      "\u001b[1;31m---------------------------------------------------------------------------\u001b[0m",
      "\u001b[1;31mException\u001b[0m                                 Traceback (most recent call last)",
      "Cell \u001b[1;32mIn[255], line 1\u001b[0m\n\u001b[1;32m----> 1\u001b[0m \u001b[38;5;28mprint\u001b[39m(add_mult_matrices(A,C,\u001b[38;5;124m\"\u001b[39m\u001b[38;5;124mmultiPLY\u001b[39m\u001b[38;5;124m\"\u001b[39m))\n",
      "Cell \u001b[1;32mIn[240], line 36\u001b[0m, in \u001b[0;36madd_mult_matrices\u001b[1;34m(m, n, operation)\u001b[0m\n\u001b[0;32m     34\u001b[0m         \u001b[38;5;28;01mreturn\u001b[39;00m m\u001b[38;5;129m@n\u001b[39m\n\u001b[0;32m     35\u001b[0m     \u001b[38;5;28;01melse\u001b[39;00m:\n\u001b[1;32m---> 36\u001b[0m         \u001b[38;5;28;01mraise\u001b[39;00m \u001b[38;5;167;01mException\u001b[39;00m(\u001b[38;5;124m\"\u001b[39m\u001b[38;5;124mThe first matrix must have the same number of columns as the second matrix has rows\u001b[39m\u001b[38;5;124m\"\u001b[39m)\n\u001b[0;32m     38\u001b[0m \u001b[38;5;28;01melse\u001b[39;00m:\n\u001b[0;32m     39\u001b[0m     \u001b[38;5;28;01mraise\u001b[39;00m \u001b[38;5;167;01mException\u001b[39;00m( \u001b[38;5;124m\"\u001b[39m\u001b[38;5;124mYou specified a wrong operation or didn\u001b[39m\u001b[38;5;124m'\u001b[39m\u001b[38;5;124mt spell it correctly. Try \u001b[39m\u001b[38;5;124m'\u001b[39m\u001b[38;5;124madd\u001b[39m\u001b[38;5;124m'\u001b[39m\u001b[38;5;124m or \u001b[39m\u001b[38;5;124m'\u001b[39m\u001b[38;5;124mmultiply\u001b[39m\u001b[38;5;124m'\u001b[39m\u001b[38;5;124m\"\u001b[39m)\n",
      "\u001b[1;31mException\u001b[0m: The first matrix must have the same number of columns as the second matrix has rows"
     ]
    }
   ],
   "source": [
    "print(add_mult_matrices(A,C,\"multiPLY\"))"
   ]
  },
  {
   "cell_type": "code",
   "execution_count": 256,
   "id": "d709fdac",
   "metadata": {},
   "outputs": [
    {
     "name": "stdout",
     "output_type": "stream",
     "text": [
      "[[11 10]\n",
      " [10 11]]\n"
     ]
    }
   ],
   "source": [
    "print(add_mult_matrices(C,D,\"multiply\"))"
   ]
  },
  {
   "cell_type": "code",
   "execution_count": 257,
   "id": "890978f6",
   "metadata": {},
   "outputs": [
    {
     "name": "stdout",
     "output_type": "stream",
     "text": [
      "[[  8 -10  -3]\n",
      " [ 10  -8   0]]\n"
     ]
    }
   ],
   "source": [
    "print(add_mult_matrices(C,B,\"multiply\"))"
   ]
  },
  {
   "cell_type": "markdown",
   "id": "5000c829",
   "metadata": {},
   "source": [
    "**Chap2. Question 2**"
   ]
  },
  {
   "cell_type": "code",
   "execution_count": 178,
   "id": "44dab740",
   "metadata": {},
   "outputs": [],
   "source": [
    "A=np.array([[1,2],[2,4]])\n",
    "B=np.array([[2,1],[1,3]])\n",
    "C=np.array([[4,3],[0,2]])"
   ]
  },
  {
   "cell_type": "code",
   "execution_count": 179,
   "id": "5bc3dbce",
   "metadata": {},
   "outputs": [
    {
     "name": "stdout",
     "output_type": "stream",
     "text": [
      "False\n",
      "True\n"
     ]
    }
   ],
   "source": [
    "print(np.array_equal(B,C))\n",
    "print(np.array_equal(A@B,A@C))"
   ]
  },
  {
   "cell_type": "markdown",
   "id": "a7f5b140",
   "metadata": {},
   "source": [
    "**Chap2. Question 3**"
   ]
  },
  {
   "cell_type": "code",
   "execution_count": 180,
   "id": "668b1323",
   "metadata": {},
   "outputs": [],
   "source": [
    "A=np.array([[1,1,1],[1,2,3],[1,3,4]])\n",
    "D=np.array([[2,0,0],[0,3,0],[0,0,4]])"
   ]
  },
  {
   "cell_type": "code",
   "execution_count": 181,
   "id": "935488f4",
   "metadata": {},
   "outputs": [
    {
     "name": "stdout",
     "output_type": "stream",
     "text": [
      "[[ 2  3  4]\n",
      " [ 2  6 12]\n",
      " [ 2  9 16]]\n",
      "[[ 2  2  2]\n",
      " [ 3  6  9]\n",
      " [ 4 12 16]]\n"
     ]
    }
   ],
   "source": [
    "print(A@D)\n",
    "print(D@A)"
   ]
  },
  {
   "cell_type": "markdown",
   "id": "334ca623",
   "metadata": {},
   "source": [
    "**Quiz p.8, Question 2**"
   ]
  },
  {
   "cell_type": "code",
   "execution_count": 182,
   "id": "b031a786",
   "metadata": {},
   "outputs": [],
   "source": [
    "X = np.array([[1,-1],[-1,1]])\n",
    "Y = np.array([[-1,1],[1,-1]])"
   ]
  },
  {
   "cell_type": "code",
   "execution_count": 183,
   "id": "cc226222",
   "metadata": {},
   "outputs": [
    {
     "name": "stdout",
     "output_type": "stream",
     "text": [
      "[[-2  2]\n",
      " [ 2 -2]]\n"
     ]
    }
   ],
   "source": [
    "print(X@Y) #Answer is a"
   ]
  },
  {
   "cell_type": "markdown",
   "id": "fbfb4124",
   "metadata": {},
   "source": [
    "**Chap 6. Question 1**"
   ]
  },
  {
   "cell_type": "code",
   "execution_count": 184,
   "id": "9c68d160",
   "metadata": {},
   "outputs": [],
   "source": [
    "M = np.array([[5,6],[4,5]])\n",
    "N = np.array([[6,4],[3,3]])"
   ]
  },
  {
   "cell_type": "code",
   "execution_count": 187,
   "id": "f0bb482d",
   "metadata": {},
   "outputs": [
    {
     "name": "stdout",
     "output_type": "stream",
     "text": [
      "[[ 5. -6.]\n",
      " [-4.  5.]]\n",
      "[[ 0.5        -0.66666667]\n",
      " [-0.5         1.        ]]\n"
     ]
    }
   ],
   "source": [
    "print(np.linalg.inv(M))\n",
    "print(np.linalg.inv(N))"
   ]
  },
  {
   "cell_type": "markdown",
   "id": "574b6d18",
   "metadata": {},
   "source": [
    "**Quiz p.15, Question 3**"
   ]
  },
  {
   "cell_type": "code",
   "execution_count": 189,
   "id": "c4cc11eb",
   "metadata": {},
   "outputs": [],
   "source": [
    "K = np.array([[2,2],[1,2]])"
   ]
  },
  {
   "cell_type": "code",
   "execution_count": 190,
   "id": "16f7e78a",
   "metadata": {},
   "outputs": [
    {
     "name": "stdout",
     "output_type": "stream",
     "text": [
      "[[ 1.  -1. ]\n",
      " [-0.5  1. ]]\n"
     ]
    }
   ],
   "source": [
    "print(np.linalg.inv(K)) #Answer is a"
   ]
  },
  {
   "cell_type": "markdown",
   "id": "5de93779",
   "metadata": {},
   "source": [
    "**Chap10. Question 1 a)**"
   ]
  },
  {
   "cell_type": "code",
   "execution_count": 191,
   "id": "e9a63544",
   "metadata": {},
   "outputs": [],
   "source": [
    "A = np.array([[3,-7,-2],[-3,5,1],[6,-4,0]])\n",
    "X = np.array([-7,5,2])\n"
   ]
  },
  {
   "cell_type": "code",
   "execution_count": 192,
   "id": "dfaff157",
   "metadata": {},
   "outputs": [
    {
     "name": "stdout",
     "output_type": "stream",
     "text": [
      "[ 3.  4. -6.]\n"
     ]
    }
   ],
   "source": [
    "print(np.linalg.solve(A,X))"
   ]
  },
  {
   "cell_type": "markdown",
   "id": "3f49e9e1",
   "metadata": {},
   "source": [
    "**Chap10. Question 1 b)**"
   ]
  },
  {
   "cell_type": "code",
   "execution_count": 193,
   "id": "6f6e72fb",
   "metadata": {},
   "outputs": [],
   "source": [
    "B = np.array([[1,-2,3],[-1,3,-1],[2,-5,5]])\n",
    "Y = np.array([1,-1,1])\n"
   ]
  },
  {
   "cell_type": "code",
   "execution_count": 194,
   "id": "df842e2f",
   "metadata": {},
   "outputs": [
    {
     "name": "stdout",
     "output_type": "stream",
     "text": [
      "[ 8.  2. -1.]\n"
     ]
    }
   ],
   "source": [
    "print(np.linalg.solve(B,Y))"
   ]
  },
  {
   "cell_type": "markdown",
   "id": "beb0a8af",
   "metadata": {},
   "source": [
    "**Chap 12. Question 1**"
   ]
  },
  {
   "cell_type": "code",
   "execution_count": 195,
   "id": "4fe15c46",
   "metadata": {},
   "outputs": [],
   "source": [
    "M = np.array([[3,-7,-2],[-3,5,1],[6,-4,0]])"
   ]
  },
  {
   "cell_type": "code",
   "execution_count": 196,
   "id": "9e429e9e",
   "metadata": {},
   "outputs": [
    {
     "name": "stdout",
     "output_type": "stream",
     "text": [
      "[[ 0.66666667  1.33333333  0.5       ]\n",
      " [ 1.          2.          0.5       ]\n",
      " [-3.         -5.         -1.        ]]\n"
     ]
    }
   ],
   "source": [
    "print(np.linalg.inv(M))"
   ]
  },
  {
   "cell_type": "markdown",
   "id": "6a4a524f",
   "metadata": {},
   "source": [
    "### Copies and Views\n",
    "Read the following link: https://numpy.org/doc/stable/user/basics.copies.html"
   ]
  },
  {
   "cell_type": "markdown",
   "id": "6cbbeaf7",
   "metadata": {},
   "source": [
    "**Basic indexing creates a view, How can you check if v1 and v2 is a view or copy? If you change the last element in v2 to 123, will the last element in v1 be changed? Why?**"
   ]
  },
  {
   "cell_type": "code",
   "execution_count": 267,
   "id": "5b9ef4df",
   "metadata": {},
   "outputs": [
    {
     "name": "stdout",
     "output_type": "stream",
     "text": [
      "[0 1 2 3]\n",
      "[2 3]\n"
     ]
    }
   ],
   "source": [
    "v1 = np.arange(4)\n",
    "v2 = v1[-2:]\n",
    "print(v1)\n",
    "print(v2)"
   ]
  },
  {
   "cell_type": "code",
   "execution_count": 268,
   "id": "d2440489",
   "metadata": {},
   "outputs": [
    {
     "name": "stdout",
     "output_type": "stream",
     "text": [
      "None\n"
     ]
    },
    {
     "data": {
      "text/plain": [
       "array([0, 1, 2, 3])"
      ]
     },
     "execution_count": 268,
     "metadata": {},
     "output_type": "execute_result"
    }
   ],
   "source": [
    "# The base attribute of a view returns the original array while it returns None for a copy.\n",
    "print(v1.base)\n",
    "v2.base"
   ]
  },
  {
   "cell_type": "code",
   "execution_count": 270,
   "id": "c8752807",
   "metadata": {},
   "outputs": [
    {
     "name": "stdout",
     "output_type": "stream",
     "text": [
      "[123   1   2 123]\n",
      "[  2 123]\n"
     ]
    }
   ],
   "source": [
    "# The last element in v1 will be changed aswell since v2 is a view, meaning they share the same data buffer.\n",
    "v1[0] = 123\n",
    "print(v1)\n",
    "print(v2)"
   ]
  },
  {
   "cell_type": "markdown",
   "id": "e46279dd",
   "metadata": {},
   "source": [
    "To check if v2 is a copy of v1 we can check if it has a shared or a separate memory. This can be done accessing the base attribute: if it returns an array then the memory is shared and v2 is a view. If it returns none that means that v2 is a copy hence a new array on its own. Since the memory of a view is shared if we change some of its elements also the original array will change likewise. Viceversa, if we change an element of the original array included in the view also the element in the view will change"
   ]
  }
 ],
 "metadata": {
  "kernelspec": {
   "display_name": "Python 3 (ipykernel)",
   "language": "python",
   "name": "python3"
  },
  "language_info": {
   "codemirror_mode": {
    "name": "ipython",
    "version": 3
   },
   "file_extension": ".py",
   "mimetype": "text/x-python",
   "name": "python",
   "nbconvert_exporter": "python",
   "pygments_lexer": "ipython3",
   "version": "3.11.4"
  }
 },
 "nbformat": 4,
 "nbformat_minor": 5
}
